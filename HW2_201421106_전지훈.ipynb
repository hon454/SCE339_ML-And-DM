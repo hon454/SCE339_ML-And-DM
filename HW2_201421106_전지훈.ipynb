{
 "cells": [
  {
   "cell_type": "code",
   "execution_count": 1,
   "metadata": {
    "collapsed": true,
    "pycharm": {
     "name": "#%%\n"
    }
   },
   "outputs": [
    {
     "ename": "RuntimeError",
     "evalue": "The current Numpy installation ('c:\\\\users\\\\hon45\\\\documents\\\\github\\\\sce339_ml-and-dm\\\\venv\\\\lib\\\\site-packages\\\\numpy\\\\__init__.py') fails to pass a sanity check due to a bug in the windows runtime. See this issue for more information: https://tinyurl.com/y3dm3h86",
     "output_type": "error",
     "traceback": [
      "\u001B[1;31m---------------------------------------------------------------------------\u001B[0m",
      "\u001B[1;31mRuntimeError\u001B[0m                              Traceback (most recent call last)",
      "\u001B[1;32m<ipython-input-1-0ef88c8d66d6>\u001B[0m in \u001B[0;36m<module>\u001B[1;34m\u001B[0m\n\u001B[1;32m----> 1\u001B[1;33m \u001B[1;32mimport\u001B[0m \u001B[0mpandas\u001B[0m \u001B[1;32mas\u001B[0m \u001B[0mpd\u001B[0m\u001B[1;33m\u001B[0m\u001B[1;33m\u001B[0m\u001B[0m\n\u001B[0m\u001B[0;32m      2\u001B[0m \u001B[1;32mimport\u001B[0m \u001B[0mnumpy\u001B[0m \u001B[1;32mas\u001B[0m \u001B[0mnp\u001B[0m\u001B[1;33m\u001B[0m\u001B[1;33m\u001B[0m\u001B[0m\n\u001B[0;32m      3\u001B[0m \u001B[1;32mimport\u001B[0m \u001B[0mmatplotlib\u001B[0m\u001B[1;33m.\u001B[0m\u001B[0mpyplot\u001B[0m \u001B[1;32mas\u001B[0m \u001B[0mplt\u001B[0m\u001B[1;33m\u001B[0m\u001B[1;33m\u001B[0m\u001B[0m\n\u001B[0;32m      4\u001B[0m \u001B[1;33m\u001B[0m\u001B[0m\n\u001B[0;32m      5\u001B[0m \u001B[1;31m# 데이터 읽기\u001B[0m\u001B[1;33m\u001B[0m\u001B[1;33m\u001B[0m\u001B[1;33m\u001B[0m\u001B[0m\n",
      "\u001B[1;32mc:\\users\\hon45\\documents\\github\\sce339_ml-and-dm\\venv\\lib\\site-packages\\pandas\\__init__.py\u001B[0m in \u001B[0;36m<module>\u001B[1;34m\u001B[0m\n\u001B[0;32m      9\u001B[0m \u001B[1;32mfor\u001B[0m \u001B[0mdependency\u001B[0m \u001B[1;32min\u001B[0m \u001B[0mhard_dependencies\u001B[0m\u001B[1;33m:\u001B[0m\u001B[1;33m\u001B[0m\u001B[1;33m\u001B[0m\u001B[0m\n\u001B[0;32m     10\u001B[0m     \u001B[1;32mtry\u001B[0m\u001B[1;33m:\u001B[0m\u001B[1;33m\u001B[0m\u001B[1;33m\u001B[0m\u001B[0m\n\u001B[1;32m---> 11\u001B[1;33m         \u001B[0m__import__\u001B[0m\u001B[1;33m(\u001B[0m\u001B[0mdependency\u001B[0m\u001B[1;33m)\u001B[0m\u001B[1;33m\u001B[0m\u001B[1;33m\u001B[0m\u001B[0m\n\u001B[0m\u001B[0;32m     12\u001B[0m     \u001B[1;32mexcept\u001B[0m \u001B[0mImportError\u001B[0m \u001B[1;32mas\u001B[0m \u001B[0me\u001B[0m\u001B[1;33m:\u001B[0m\u001B[1;33m\u001B[0m\u001B[1;33m\u001B[0m\u001B[0m\n\u001B[0;32m     13\u001B[0m         \u001B[0mmissing_dependencies\u001B[0m\u001B[1;33m.\u001B[0m\u001B[0mappend\u001B[0m\u001B[1;33m(\u001B[0m\u001B[1;34mf\"{dependency}: {e}\"\u001B[0m\u001B[1;33m)\u001B[0m\u001B[1;33m\u001B[0m\u001B[1;33m\u001B[0m\u001B[0m\n",
      "\u001B[1;32mc:\\users\\hon45\\documents\\github\\sce339_ml-and-dm\\venv\\lib\\site-packages\\numpy\\__init__.py\u001B[0m in \u001B[0;36m<module>\u001B[1;34m\u001B[0m\n\u001B[0;32m    303\u001B[0m \u001B[1;33m\u001B[0m\u001B[0m\n\u001B[0;32m    304\u001B[0m     \u001B[1;32mif\u001B[0m \u001B[0msys\u001B[0m\u001B[1;33m.\u001B[0m\u001B[0mplatform\u001B[0m \u001B[1;33m==\u001B[0m \u001B[1;34m\"win32\"\u001B[0m \u001B[1;32mand\u001B[0m \u001B[0msys\u001B[0m\u001B[1;33m.\u001B[0m\u001B[0mmaxsize\u001B[0m \u001B[1;33m>\u001B[0m \u001B[1;36m2\u001B[0m\u001B[1;33m**\u001B[0m\u001B[1;36m32\u001B[0m\u001B[1;33m:\u001B[0m\u001B[1;33m\u001B[0m\u001B[1;33m\u001B[0m\u001B[0m\n\u001B[1;32m--> 305\u001B[1;33m         \u001B[0m_win_os_check\u001B[0m\u001B[1;33m(\u001B[0m\u001B[1;33m)\u001B[0m\u001B[1;33m\u001B[0m\u001B[1;33m\u001B[0m\u001B[0m\n\u001B[0m\u001B[0;32m    306\u001B[0m \u001B[1;33m\u001B[0m\u001B[0m\n\u001B[0;32m    307\u001B[0m     \u001B[1;32mdel\u001B[0m \u001B[0m_win_os_check\u001B[0m\u001B[1;33m\u001B[0m\u001B[1;33m\u001B[0m\u001B[0m\n",
      "\u001B[1;32mc:\\users\\hon45\\documents\\github\\sce339_ml-and-dm\\venv\\lib\\site-packages\\numpy\\__init__.py\u001B[0m in \u001B[0;36m_win_os_check\u001B[1;34m()\u001B[0m\n\u001B[0;32m    300\u001B[0m                    \u001B[1;34m\"See this issue for more information: \"\u001B[0m\u001B[1;33m\u001B[0m\u001B[1;33m\u001B[0m\u001B[0m\n\u001B[0;32m    301\u001B[0m                    \"https://tinyurl.com/y3dm3h86\")\n\u001B[1;32m--> 302\u001B[1;33m             \u001B[1;32mraise\u001B[0m \u001B[0mRuntimeError\u001B[0m\u001B[1;33m(\u001B[0m\u001B[0mmsg\u001B[0m\u001B[1;33m.\u001B[0m\u001B[0mformat\u001B[0m\u001B[1;33m(\u001B[0m\u001B[0m__file__\u001B[0m\u001B[1;33m)\u001B[0m\u001B[1;33m)\u001B[0m \u001B[1;32mfrom\u001B[0m \u001B[1;32mNone\u001B[0m\u001B[1;33m\u001B[0m\u001B[1;33m\u001B[0m\u001B[0m\n\u001B[0m\u001B[0;32m    303\u001B[0m \u001B[1;33m\u001B[0m\u001B[0m\n\u001B[0;32m    304\u001B[0m     \u001B[1;32mif\u001B[0m \u001B[0msys\u001B[0m\u001B[1;33m.\u001B[0m\u001B[0mplatform\u001B[0m \u001B[1;33m==\u001B[0m \u001B[1;34m\"win32\"\u001B[0m \u001B[1;32mand\u001B[0m \u001B[0msys\u001B[0m\u001B[1;33m.\u001B[0m\u001B[0mmaxsize\u001B[0m \u001B[1;33m>\u001B[0m \u001B[1;36m2\u001B[0m\u001B[1;33m**\u001B[0m\u001B[1;36m32\u001B[0m\u001B[1;33m:\u001B[0m\u001B[1;33m\u001B[0m\u001B[1;33m\u001B[0m\u001B[0m\n",
      "\u001B[1;31mRuntimeError\u001B[0m: The current Numpy installation ('c:\\\\users\\\\hon45\\\\documents\\\\github\\\\sce339_ml-and-dm\\\\venv\\\\lib\\\\site-packages\\\\numpy\\\\__init__.py') fails to pass a sanity check due to a bug in the windows runtime. See this issue for more information: https://tinyurl.com/y3dm3h86"
     ]
    }
   ],
   "source": [
    "import pandas as pd\n",
    "import numpy as np\n",
    "import matplotlib.pyplot as plt\n",
    "\n",
    "# 데이터 읽기\n",
    "train_data_path = './train_hw2.csv'\n",
    "train_data = pd.read_csv(train_data_path)\n",
    "\n",
    "# 데이터 타입 및 데이터 항목 별 상단 5개 데이터 출력\n",
    "for col in train_data.columns:\n",
    "    print('{}\\n'.format(train_data[col].head()))"
   ]
  },
  {
   "cell_type": "code",
   "execution_count": null,
   "outputs": [],
   "source": [
    "# indrel_1mes 변수를 제외하고 train_data를 구성\n",
    "train_data = train_data.iloc[:, [0, 1, 2, 3, 5]]"
   ],
   "metadata": {
    "collapsed": false,
    "pycharm": {
     "name": "#%%\n"
    }
   }
  },
  {
   "cell_type": "code",
   "execution_count": null,
   "outputs": [],
   "source": [
    "# age의 결측값을 평균값으로 대체\n",
    "mean_age = train_data['age'].mean()\n",
    "train_data['age'] = train_data['age'].fillna(mean_age)\n",
    "\n",
    "# antiguedad의 결측값을 평균값으로 대체\n",
    "mean_antiguedad = train_data['antiguedad'].mean()\n",
    "train_data['antiguedad'] = train_data['antiguedad'].fillna(mean_antiguedad)\n",
    "\n",
    "# renta의 결측값을 평균값으로 대체\n",
    "mean_renta = train_data['renta'].mean()\n",
    "train_data['renta'] = train_data['renta'].fillna(mean_renta)\n",
    "\n",
    "# ind_nuevo의 결측값을 중앙값으로 대체\n",
    "median_ind_nuevo = train_data['ind_nuevo'].median()\n",
    "train_data['ind_nuevo'] = train_data['ind_nuevo'].fillna(median_ind_nuevo)\n",
    "\n",
    "# tiprel_1mes의 결측값을 'I'로 대체\n",
    "train_data['tiprel_1mes'] = train_data['tiprel_1mes'].fillna('I')\n",
    "\n",
    "category_features = ['tiprel_1mes']"
   ],
   "metadata": {
    "collapsed": false,
    "pycharm": {
     "name": "#%%\n"
    }
   }
  },
  {
   "cell_type": "code",
   "execution_count": null,
   "outputs": [],
   "source": [
    "# 박스 플롯 저장\n",
    "# fig = plt.figure(figsize=(7, 6))\n",
    "# plt.boxplot(train_data['age'])\n",
    "# fig.savefig('age_boxplot.png', dpi=fig.dpi)\n",
    "#\n",
    "# fig = plt.figure(figsize=(7, 6))\n",
    "# plt.boxplot(train_data['antiguedad'])\n",
    "# fig.savefig('antiguedad_boxplot.png', dpi=fig.dpi)\n",
    "#\n",
    "# fig = plt.figure(figsize=(7, 6))\n",
    "# plt.boxplot(train_data['renta'])\n",
    "# fig.savefig('renta_boxplot.png', dpi=fig.dpi)\n",
    "#\n",
    "# fig = plt.figure(figsize=(7, 6))\n",
    "# plt.boxplot(train_data['ind_nuevo'])\n",
    "# fig.savefig('ind_nuevo_boxplot.png', dpi=fig.dpi)\n",
    "#\n",
    "# # 히스토그램 저장\n",
    "# fig = plt.figure(figsize=(7, 6))\n",
    "# plt.hist(train_data['age'], bins=1000)\n",
    "# fig.savefig('age_histogram.png', dpi=fig.dpi)\n",
    "#\n",
    "# fig = plt.figure(figsize=(7, 6))\n",
    "# plt.hist(train_data['antiguedad'], bins=1000)\n",
    "# fig.savefig('antiguedad_histogram.png', dpi=fig.dpi)\n",
    "#\n",
    "# fig = plt.figure(figsize=(7, 6))\n",
    "# plt.hist(train_data['renta'], bins=1000)\n",
    "# fig.savefig('renta_histogram.png', dpi=fig.dpi)\n",
    "#\n",
    "# fig = plt.figure(figsize=(7, 6))\n",
    "# plt.hist(train_data['ind_nuevo'], bins=1000)\n",
    "# fig.savefig('ind_nuevo_histogram.png', dpi=fig.dpi)"
   ],
   "metadata": {
    "collapsed": false,
    "pycharm": {
     "name": "#%%\n"
    }
   }
  },
  {
   "cell_type": "code",
   "execution_count": null,
   "outputs": [],
   "source": [
    "# one-hot encoding 함수\n",
    "def one_hot(df, features):\n",
    "    df =  pd.get_dummies(df, columns=features)\n",
    "    return df\n",
    "\n",
    "# train_data에 one-hot encoding을 처리하여 대입\n",
    "category_features = ['tiprel_1mes']\n",
    "train_data = one_hot(train_data, category_features)\n",
    "\n",
    "# 변경된 데이터 프레임 출력\n",
    "print(train_data.head(5))"
   ],
   "metadata": {
    "collapsed": false,
    "pycharm": {
     "name": "#%%\n"
    }
   }
  },
  {
   "cell_type": "code",
   "execution_count": null,
   "outputs": [],
   "source": [
    "from sklearn.datasets import make_blobs\n",
    "# 임의의 랜덤한 데이터를 만드는 함수"
   ],
   "metadata": {
    "collapsed": false,
    "pycharm": {
     "name": "#%%\n"
    }
   }
  },
  {
   "cell_type": "code",
   "execution_count": null,
   "outputs": [],
   "source": [
    "import matplotlib.pyplot as plt\n",
    "# plt는 시각화에서 기본적으로 쓰이는 함수입니다. 꼭 숙지하세요"
   ],
   "metadata": {
    "collapsed": false,
    "pycharm": {
     "name": "#%%\n"
    }
   }
  },
  {
   "cell_type": "markdown",
   "source": [
    "* 훈련 데이터 생성"
   ],
   "metadata": {
    "collapsed": false
   }
  },
  {
   "cell_type": "code",
   "execution_count": null,
   "outputs": [],
   "source": [
    "X, y = make_blobs(n_samples=300, n_features=2, centers=3, random_state=1, cluster_std = 1)\n",
    "\n",
    "plt.scatter(X[:, 0], X[:, 1], marker='o', s=100,\n",
    "            edgecolor=\"k\", linewidth=2, c=y)\n",
    "plt.show()"
   ],
   "metadata": {
    "collapsed": false,
    "pycharm": {
     "name": "#%%\n"
    }
   }
  },
  {
   "cell_type": "markdown",
   "source": [
    "* 테스트 데이터 생성"
   ],
   "metadata": {
    "collapsed": false
   }
  },
  {
   "cell_type": "code",
   "execution_count": null,
   "outputs": [],
   "source": [
    "test, test_y = make_blobs(n_samples=300, n_features=2, centers=3, random_state=1, cluster_std = 3)\n",
    "plt.scatter(test[:, 0], test[:, 1], marker='o', s=100,\n",
    "            edgecolor=\"k\", linewidth=2, c=test_y)\n",
    "plt.show()"
   ],
   "metadata": {
    "collapsed": false,
    "pycharm": {
     "name": "#%%\n"
    }
   }
  },
  {
   "cell_type": "code",
   "execution_count": null,
   "outputs": [],
   "source": [
    "import collections\n",
    "\n",
    "class Knn():\n",
    "\n",
    "    def __init__(self, n_neighbors):\n",
    "\n",
    "        # 생성자로 최근접 이웃수(n_neighbors)를 입력받는다.\n",
    "        self.k = n_neighbors\n",
    "\n",
    "    # knn 은 lazy learning 인것을 생각해보세요\n",
    "    def fit(self,X,y):\n",
    "        self.X = X\n",
    "        self.y = y\n",
    "\n",
    "    def predict(self, test) :\n",
    "        y_pred = []\n",
    "        for i in range(test.shape[0]):\n",
    "            # 거리를 계산한 리스트 생성\n",
    "            dist_list = self.dist(self.X, test[i])\n",
    "\n",
    "            # 거리와 인덱스의 튜플을 저장하는 리스트 생성후 오름차순 정렬\n",
    "            dist_with_index_list = []\n",
    "            for j in range(test.shape[0]):\n",
    "                dist_with_index_list.append((dist_list[j], j))\n",
    "\n",
    "            dist_with_index_list.sort(key=lambda x:x[0])\n",
    "\n",
    "            # 가장 근접한 요소 k개의 값을 저장\n",
    "            neighbors_value = []\n",
    "            for j in range(self.k):\n",
    "                index = dist_with_index_list[j][1]\n",
    "                neighbors_value.append(y[index])\n",
    "\n",
    "            # k개의 요소중 최빈값을 예측값으로 설정\n",
    "            y_pred.append(collections.Counter(neighbors_value).most_common(n=1)[0][0])\n",
    "\n",
    "        # 모든 비교가 끝나면 예측된 값이 저장된 y_pred를 반환한다.\n",
    "        return y_pred\n",
    "\n",
    "    # 거리를 계산하는 함수\n",
    "    def dist(self, x, y) :\n",
    "        return np.linalg.norm(x - y, axis=1)\n",
    "\n",
    "classfier = Knn(3)\n",
    "classfier.fit(X, y)\n",
    "\n",
    "result = classfier.predict(test)\n",
    "\n",
    "from sklearn.metrics import accuracy_score\n",
    "\n",
    "accuracy_score(test_y, result)\n",
    "\n"
   ],
   "metadata": {
    "collapsed": false,
    "pycharm": {
     "name": "#%%\n"
    }
   }
  }
 ],
 "metadata": {
  "kernelspec": {
   "display_name": "Python 3",
   "language": "python",
   "name": "python3"
  },
  "language_info": {
   "codemirror_mode": {
    "name": "ipython",
    "version": 2
   },
   "file_extension": ".py",
   "mimetype": "text/x-python",
   "name": "python",
   "nbconvert_exporter": "python",
   "pygments_lexer": "ipython2",
   "version": "2.7.6"
  }
 },
 "nbformat": 4,
 "nbformat_minor": 0
}