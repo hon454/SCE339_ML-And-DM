{
 "cells": [
  {
   "cell_type": "markdown",
   "metadata": {},
   "source": [
    "* 제가 사용한 라이브러리의 버전 입니다. "
   ]
  },
  {
   "cell_type": "code",
   "execution_count": 1,
   "metadata": {
    "ExecuteTime": {
     "end_time": "2020-09-15T12:30:04.578779Z",
     "start_time": "2020-09-15T12:30:04.456792Z"
    }
   },
   "outputs": [
    {
     "ename": "ModuleNotFoundError",
     "evalue": "No module named 'watermark'",
     "output_type": "error",
     "traceback": [
      "\u001B[1;31m---------------------------------------------------------------------------\u001B[0m",
      "\u001B[1;31mModuleNotFoundError\u001B[0m                       Traceback (most recent call last)",
      "\u001B[1;32m<ipython-input-1-ae5935c52ec0>\u001B[0m in \u001B[0;36m<module>\u001B[1;34m\u001B[0m\n\u001B[1;32m----> 1\u001B[1;33m \u001B[0mget_ipython\u001B[0m\u001B[1;33m(\u001B[0m\u001B[1;33m)\u001B[0m\u001B[1;33m.\u001B[0m\u001B[0mrun_line_magic\u001B[0m\u001B[1;33m(\u001B[0m\u001B[1;34m'load_ext'\u001B[0m\u001B[1;33m,\u001B[0m \u001B[1;34m'watermark'\u001B[0m\u001B[1;33m)\u001B[0m\u001B[1;33m\u001B[0m\u001B[1;33m\u001B[0m\u001B[0m\n\u001B[0m\u001B[0;32m      2\u001B[0m \u001B[0mget_ipython\u001B[0m\u001B[1;33m(\u001B[0m\u001B[1;33m)\u001B[0m\u001B[1;33m.\u001B[0m\u001B[0mrun_line_magic\u001B[0m\u001B[1;33m(\u001B[0m\u001B[1;34m'watermark'\u001B[0m\u001B[1;33m,\u001B[0m \u001B[1;34m\"-a 'Moon Jeong-Hyeon' -u -d -p numpy,pandas,matplotlib,seaborn,sklearn\"\u001B[0m\u001B[1;33m)\u001B[0m\u001B[1;33m\u001B[0m\u001B[1;33m\u001B[0m\u001B[0m\n\u001B[0;32m      3\u001B[0m \u001B[1;33m\u001B[0m\u001B[0m\n",
      "\u001B[1;32mc:\\users\\hon45\\documents\\github\\machinelearning\\venv\\lib\\site-packages\\IPython\\core\\interactiveshell.py\u001B[0m in \u001B[0;36mrun_line_magic\u001B[1;34m(self, magic_name, line, _stack_depth)\u001B[0m\n\u001B[0;32m   2324\u001B[0m                 \u001B[0mkwargs\u001B[0m\u001B[1;33m[\u001B[0m\u001B[1;34m'local_ns'\u001B[0m\u001B[1;33m]\u001B[0m \u001B[1;33m=\u001B[0m \u001B[0mself\u001B[0m\u001B[1;33m.\u001B[0m\u001B[0mget_local_scope\u001B[0m\u001B[1;33m(\u001B[0m\u001B[0mstack_depth\u001B[0m\u001B[1;33m)\u001B[0m\u001B[1;33m\u001B[0m\u001B[1;33m\u001B[0m\u001B[0m\n\u001B[0;32m   2325\u001B[0m             \u001B[1;32mwith\u001B[0m \u001B[0mself\u001B[0m\u001B[1;33m.\u001B[0m\u001B[0mbuiltin_trap\u001B[0m\u001B[1;33m:\u001B[0m\u001B[1;33m\u001B[0m\u001B[1;33m\u001B[0m\u001B[0m\n\u001B[1;32m-> 2326\u001B[1;33m                 \u001B[0mresult\u001B[0m \u001B[1;33m=\u001B[0m \u001B[0mfn\u001B[0m\u001B[1;33m(\u001B[0m\u001B[1;33m*\u001B[0m\u001B[0margs\u001B[0m\u001B[1;33m,\u001B[0m \u001B[1;33m**\u001B[0m\u001B[0mkwargs\u001B[0m\u001B[1;33m)\u001B[0m\u001B[1;33m\u001B[0m\u001B[1;33m\u001B[0m\u001B[0m\n\u001B[0m\u001B[0;32m   2327\u001B[0m             \u001B[1;32mreturn\u001B[0m \u001B[0mresult\u001B[0m\u001B[1;33m\u001B[0m\u001B[1;33m\u001B[0m\u001B[0m\n\u001B[0;32m   2328\u001B[0m \u001B[1;33m\u001B[0m\u001B[0m\n",
      "\u001B[1;32m<decorator-gen-58>\u001B[0m in \u001B[0;36mload_ext\u001B[1;34m(self, module_str)\u001B[0m\n",
      "\u001B[1;32mc:\\users\\hon45\\documents\\github\\machinelearning\\venv\\lib\\site-packages\\IPython\\core\\magic.py\u001B[0m in \u001B[0;36m<lambda>\u001B[1;34m(f, *a, **k)\u001B[0m\n\u001B[0;32m    185\u001B[0m     \u001B[1;31m# but it's overkill for just that one bit of state.\u001B[0m\u001B[1;33m\u001B[0m\u001B[1;33m\u001B[0m\u001B[1;33m\u001B[0m\u001B[0m\n\u001B[0;32m    186\u001B[0m     \u001B[1;32mdef\u001B[0m \u001B[0mmagic_deco\u001B[0m\u001B[1;33m(\u001B[0m\u001B[0marg\u001B[0m\u001B[1;33m)\u001B[0m\u001B[1;33m:\u001B[0m\u001B[1;33m\u001B[0m\u001B[1;33m\u001B[0m\u001B[0m\n\u001B[1;32m--> 187\u001B[1;33m         \u001B[0mcall\u001B[0m \u001B[1;33m=\u001B[0m \u001B[1;32mlambda\u001B[0m \u001B[0mf\u001B[0m\u001B[1;33m,\u001B[0m \u001B[1;33m*\u001B[0m\u001B[0ma\u001B[0m\u001B[1;33m,\u001B[0m \u001B[1;33m**\u001B[0m\u001B[0mk\u001B[0m\u001B[1;33m:\u001B[0m \u001B[0mf\u001B[0m\u001B[1;33m(\u001B[0m\u001B[1;33m*\u001B[0m\u001B[0ma\u001B[0m\u001B[1;33m,\u001B[0m \u001B[1;33m**\u001B[0m\u001B[0mk\u001B[0m\u001B[1;33m)\u001B[0m\u001B[1;33m\u001B[0m\u001B[1;33m\u001B[0m\u001B[0m\n\u001B[0m\u001B[0;32m    188\u001B[0m \u001B[1;33m\u001B[0m\u001B[0m\n\u001B[0;32m    189\u001B[0m         \u001B[1;32mif\u001B[0m \u001B[0mcallable\u001B[0m\u001B[1;33m(\u001B[0m\u001B[0marg\u001B[0m\u001B[1;33m)\u001B[0m\u001B[1;33m:\u001B[0m\u001B[1;33m\u001B[0m\u001B[1;33m\u001B[0m\u001B[0m\n",
      "\u001B[1;32mc:\\users\\hon45\\documents\\github\\machinelearning\\venv\\lib\\site-packages\\IPython\\core\\magics\\extension.py\u001B[0m in \u001B[0;36mload_ext\u001B[1;34m(self, module_str)\u001B[0m\n\u001B[0;32m     31\u001B[0m         \u001B[1;32mif\u001B[0m \u001B[1;32mnot\u001B[0m \u001B[0mmodule_str\u001B[0m\u001B[1;33m:\u001B[0m\u001B[1;33m\u001B[0m\u001B[1;33m\u001B[0m\u001B[0m\n\u001B[0;32m     32\u001B[0m             \u001B[1;32mraise\u001B[0m \u001B[0mUsageError\u001B[0m\u001B[1;33m(\u001B[0m\u001B[1;34m'Missing module name.'\u001B[0m\u001B[1;33m)\u001B[0m\u001B[1;33m\u001B[0m\u001B[1;33m\u001B[0m\u001B[0m\n\u001B[1;32m---> 33\u001B[1;33m         \u001B[0mres\u001B[0m \u001B[1;33m=\u001B[0m \u001B[0mself\u001B[0m\u001B[1;33m.\u001B[0m\u001B[0mshell\u001B[0m\u001B[1;33m.\u001B[0m\u001B[0mextension_manager\u001B[0m\u001B[1;33m.\u001B[0m\u001B[0mload_extension\u001B[0m\u001B[1;33m(\u001B[0m\u001B[0mmodule_str\u001B[0m\u001B[1;33m)\u001B[0m\u001B[1;33m\u001B[0m\u001B[1;33m\u001B[0m\u001B[0m\n\u001B[0m\u001B[0;32m     34\u001B[0m \u001B[1;33m\u001B[0m\u001B[0m\n\u001B[0;32m     35\u001B[0m         \u001B[1;32mif\u001B[0m \u001B[0mres\u001B[0m \u001B[1;33m==\u001B[0m \u001B[1;34m'already loaded'\u001B[0m\u001B[1;33m:\u001B[0m\u001B[1;33m\u001B[0m\u001B[1;33m\u001B[0m\u001B[0m\n",
      "\u001B[1;32mc:\\users\\hon45\\documents\\github\\machinelearning\\venv\\lib\\site-packages\\IPython\\core\\extensions.py\u001B[0m in \u001B[0;36mload_extension\u001B[1;34m(self, module_str)\u001B[0m\n\u001B[0;32m     78\u001B[0m             \u001B[1;32mif\u001B[0m \u001B[0mmodule_str\u001B[0m \u001B[1;32mnot\u001B[0m \u001B[1;32min\u001B[0m \u001B[0msys\u001B[0m\u001B[1;33m.\u001B[0m\u001B[0mmodules\u001B[0m\u001B[1;33m:\u001B[0m\u001B[1;33m\u001B[0m\u001B[1;33m\u001B[0m\u001B[0m\n\u001B[0;32m     79\u001B[0m                 \u001B[1;32mwith\u001B[0m \u001B[0mprepended_to_syspath\u001B[0m\u001B[1;33m(\u001B[0m\u001B[0mself\u001B[0m\u001B[1;33m.\u001B[0m\u001B[0mipython_extension_dir\u001B[0m\u001B[1;33m)\u001B[0m\u001B[1;33m:\u001B[0m\u001B[1;33m\u001B[0m\u001B[1;33m\u001B[0m\u001B[0m\n\u001B[1;32m---> 80\u001B[1;33m                     \u001B[0mmod\u001B[0m \u001B[1;33m=\u001B[0m \u001B[0mimport_module\u001B[0m\u001B[1;33m(\u001B[0m\u001B[0mmodule_str\u001B[0m\u001B[1;33m)\u001B[0m\u001B[1;33m\u001B[0m\u001B[1;33m\u001B[0m\u001B[0m\n\u001B[0m\u001B[0;32m     81\u001B[0m                     \u001B[1;32mif\u001B[0m \u001B[0mmod\u001B[0m\u001B[1;33m.\u001B[0m\u001B[0m__file__\u001B[0m\u001B[1;33m.\u001B[0m\u001B[0mstartswith\u001B[0m\u001B[1;33m(\u001B[0m\u001B[0mself\u001B[0m\u001B[1;33m.\u001B[0m\u001B[0mipython_extension_dir\u001B[0m\u001B[1;33m)\u001B[0m\u001B[1;33m:\u001B[0m\u001B[1;33m\u001B[0m\u001B[1;33m\u001B[0m\u001B[0m\n\u001B[0;32m     82\u001B[0m                         print((\"Loading extensions from {dir} is deprecated. \"\n",
      "\u001B[1;32m~\\AppData\\Local\\Programs\\Python\\Python38\\lib\\importlib\\__init__.py\u001B[0m in \u001B[0;36mimport_module\u001B[1;34m(name, package)\u001B[0m\n\u001B[0;32m    125\u001B[0m                 \u001B[1;32mbreak\u001B[0m\u001B[1;33m\u001B[0m\u001B[1;33m\u001B[0m\u001B[0m\n\u001B[0;32m    126\u001B[0m             \u001B[0mlevel\u001B[0m \u001B[1;33m+=\u001B[0m \u001B[1;36m1\u001B[0m\u001B[1;33m\u001B[0m\u001B[1;33m\u001B[0m\u001B[0m\n\u001B[1;32m--> 127\u001B[1;33m     \u001B[1;32mreturn\u001B[0m \u001B[0m_bootstrap\u001B[0m\u001B[1;33m.\u001B[0m\u001B[0m_gcd_import\u001B[0m\u001B[1;33m(\u001B[0m\u001B[0mname\u001B[0m\u001B[1;33m[\u001B[0m\u001B[0mlevel\u001B[0m\u001B[1;33m:\u001B[0m\u001B[1;33m]\u001B[0m\u001B[1;33m,\u001B[0m \u001B[0mpackage\u001B[0m\u001B[1;33m,\u001B[0m \u001B[0mlevel\u001B[0m\u001B[1;33m)\u001B[0m\u001B[1;33m\u001B[0m\u001B[1;33m\u001B[0m\u001B[0m\n\u001B[0m\u001B[0;32m    128\u001B[0m \u001B[1;33m\u001B[0m\u001B[0m\n\u001B[0;32m    129\u001B[0m \u001B[1;33m\u001B[0m\u001B[0m\n",
      "\u001B[1;32m~\\AppData\\Local\\Programs\\Python\\Python38\\lib\\importlib\\_bootstrap.py\u001B[0m in \u001B[0;36m_gcd_import\u001B[1;34m(name, package, level)\u001B[0m\n",
      "\u001B[1;32m~\\AppData\\Local\\Programs\\Python\\Python38\\lib\\importlib\\_bootstrap.py\u001B[0m in \u001B[0;36m_find_and_load\u001B[1;34m(name, import_)\u001B[0m\n",
      "\u001B[1;32m~\\AppData\\Local\\Programs\\Python\\Python38\\lib\\importlib\\_bootstrap.py\u001B[0m in \u001B[0;36m_find_and_load_unlocked\u001B[1;34m(name, import_)\u001B[0m\n",
      "\u001B[1;31mModuleNotFoundError\u001B[0m: No module named 'watermark'"
     ]
    }
   ],
   "source": [
    "%load_ext watermark\n",
    "%watermark -a 'Moon Jeong-Hyeon' -u -d -p numpy,pandas,matplotlib,seaborn,sklearn"
   ]
  },
  {
   "cell_type": "markdown",
   "metadata": {},
   "source": [
    "# Index"
   ]
  },
  {
   "cell_type": "markdown",
   "metadata": {
    "ExecuteTime": {
     "end_time": "2020-09-15T12:26:52.695574Z",
     "start_time": "2020-09-15T12:26:52.692506Z"
    }
   },
   "source": [
    "- [문제1](#문제1-1)\n",
    "- [문제2](#문제2-1)\n",
    "- [문제3](#문제3-1)\n",
    "- [문제4](#문제4-1)"
   ]
  },
  {
   "cell_type": "code",
   "execution_count": null,
   "metadata": {
    "ExecuteTime": {
     "end_time": "2020-09-15T12:03:16.363768Z",
     "start_time": "2020-09-15T12:03:16.282092Z"
    }
   },
   "outputs": [],
   "source": [
    "# 파이썬에서 라이브러리를 불러오는 방법.\n",
    "# as 를 이용하여 pandas 전체가 아닌 pd 만을 이용하여 호출 가능 \n",
    "import pandas as pd\n",
    "import numpy as np\n",
    "\n",
    "\n",
    "# 불러올 데이터의 path를 정의함\n",
    "# ./ 의미는 해당 주피터 노트북의 디렉토리를 의미 \n",
    "train_data_path = './train_hw2.csv'\n",
    "\n",
    "# pandas에서 read_csv 를 이용하여 csv 데이터를 불러올 경우\n",
    "# pandas의 Dataframe 자료구조로 불러오게됨.\n",
    "# 해당 자료구조와 numpy의 array 에 적용되는 다양한 라이브러리를 잘 사용해야함. \n",
    "train_data = pd.read_csv(train_data_path)\n"
   ]
  },
  {
   "cell_type": "code",
   "execution_count": null,
   "metadata": {
    "ExecuteTime": {
     "end_time": "2020-09-15T12:03:16.536696Z",
     "start_time": "2020-09-15T12:03:16.526379Z"
    }
   },
   "outputs": [],
   "source": [
    "# Dataframe에서 head 함수를 이용하면\n",
    "# 해당 데이터에서 맨 위에 있는 5개의 원소를 볼수 있음\n",
    "\n",
    "train_data.head()"
   ]
  },
  {
   "cell_type": "markdown",
   "metadata": {},
   "source": [
    "----"
   ]
  },
  {
   "cell_type": "markdown",
   "metadata": {},
   "source": [
    "* 데이터 마이닝 및 기계학습에서 가장 중요한 것 중 하나는 주어진 데이터의 특성을 파악하는 것이다. \n",
    "\n",
    "\n",
    "* 아래의 함수를 이용하면 train_data의 feature(=columns)의 모든 변수들의 데이터 타입과 5개의 수를 볼 수있다. \n",
    "\n",
    "\n",
    "* renta 의 경우 NaN으로 결측값이 존재하는 것을 알 수 있다. "
   ]
  },
  {
   "cell_type": "code",
   "execution_count": null,
   "metadata": {
    "ExecuteTime": {
     "end_time": "2020-09-15T12:03:17.457034Z",
     "start_time": "2020-09-15T12:03:17.450042Z"
    },
    "scrolled": true
   },
   "outputs": [],
   "source": [
    "# 코드 1-3. 모든 변수 미리보기\n",
    "\n",
    "for col in train_data.columns:\n",
    "    print('{}\\n'.format(train_data[col].head()))"
   ]
  },
  {
   "cell_type": "markdown",
   "metadata": {},
   "source": [
    "# 문제1-1 \n",
    "\n",
    "\n",
    "* 보고서에 기술된 데이터 설명에 따라서 주어진 데이터의 각각의 변수의 타입에 대해서 보고서에 기술한다. \n",
    "\n",
    "# 문제1-2 \n",
    "\n",
    "\n",
    "* 이번 과제는 수치형 변수를 주로 다룬다. 문제 1-1 에서 푼 것을 바탕으로 continuous 한 numeric 변수와  tiprel_1mes 변수만을 train_data의 변수로 만든다. "
   ]
  },
  {
   "cell_type": "code",
   "execution_count": null,
   "metadata": {},
   "outputs": [],
   "source": [
    "##########################\n",
    " \n",
    "#     문제 1-2 의 소스 코드를 입력하고 캡처해서 보고서에 제출하세요 \n",
    "\n",
    "\n",
    "###########################"
   ]
  },
  {
   "cell_type": "markdown",
   "metadata": {},
   "source": [
    "# 문제2-1\n",
    "\n",
    "* 판다스 라이브러리를 활용하여 주어진 변수들의 결측값을 채우세요. 결측값이 있는 데이터를 삭제해서는 안됩니다. "
   ]
  },
  {
   "cell_type": "code",
   "execution_count": null,
   "metadata": {
    "ExecuteTime": {
     "end_time": "2020-09-15T11:52:35.962800Z",
     "start_time": "2020-09-15T11:52:35.960800Z"
    }
   },
   "outputs": [],
   "source": [
    "########### 문제 2-1 ################\n",
    "\n",
    "\n",
    "\n",
    "\n",
    "\n",
    "#####################################"
   ]
  },
  {
   "cell_type": "markdown",
   "metadata": {},
   "source": [
    "# 문제2-2 \n",
    "\n",
    "* 주어진 데이터의 수치형 변수에 대해서 box plot과 histogram을 출력하여 코드와 사진을 보고서에 캡처하세요. \n",
    "\n",
    "\n",
    "* 주어진 변수중 어떤 변수가 데이터 분석에 용이할지 서술하세요. \n",
    "\n",
    "\n",
    "* 다양한 시각화 라이브러리를 사용 가능 합니다. "
   ]
  },
  {
   "cell_type": "code",
   "execution_count": null,
   "metadata": {},
   "outputs": [],
   "source": [
    "########### 문제 2-2 ################\n",
    "\n",
    "\n",
    "\n",
    "\n",
    "\n",
    "#####################################"
   ]
  },
  {
   "cell_type": "markdown",
   "metadata": {},
   "source": [
    "# 문제3-1 \n",
    "\n",
    "* tiprel_1mes 변수를 one-hot encoding 으로 만들어주는 함수를 완성하고 최종 train_data를 출력한 화면을 제출하세요"
   ]
  },
  {
   "cell_type": "code",
   "execution_count": null,
   "metadata": {
    "ExecuteTime": {
     "end_time": "2020-09-15T12:03:24.228571Z",
     "start_time": "2020-09-15T12:03:24.223911Z"
    }
   },
   "outputs": [],
   "source": [
    "def one_hot(data, category_features):\n",
    "#     파이썬에서는 리스트를 불러와서 해당 리스트의 원소를 다음과 같은 for 문으로 불러올 수 있습니다.\n",
    "# 즉 해당 for 문의 feature 는 category_feature 리스트 안에 있는 원소들을 하나씩 할당 합니다. \n",
    "    for feature in category_features:\n",
    "        ###################### 문제 3-1\n",
    "        \n",
    "        \n",
    "        \n",
    "        \n",
    "        \n",
    "        \n",
    "        ###########################"
   ]
  },
  {
   "cell_type": "code",
   "execution_count": null,
   "metadata": {
    "ExecuteTime": {
     "end_time": "2020-09-15T12:03:26.429835Z",
     "start_time": "2020-09-15T12:03:26.427485Z"
    }
   },
   "outputs": [],
   "source": [
    "category_features = ['tiprel_1mes']"
   ]
  },
  {
   "cell_type": "code",
   "execution_count": null,
   "metadata": {},
   "outputs": [],
   "source": [
    "# 범주형 변수를 불러와서 원핫 인코딩을 수행하는 함수 \n",
    "one_hot(train_data, category_features)"
   ]
  },
  {
   "cell_type": "code",
   "execution_count": null,
   "metadata": {
    "ExecuteTime": {
     "end_time": "2020-09-15T12:03:30.739230Z",
     "start_time": "2020-09-15T12:03:30.725662Z"
    }
   },
   "outputs": [],
   "source": [
    "# 제출해야할 결과물\n",
    "train_data\n",
    "# 주의 : 해당 결과물의 경우 nan이 존재합니다. 이전 문제에서 결츠값을 처리했으므로 \n",
    "# 학생들이 제출할 결과물에서는 nan 변수가 있어서는 안됩니다. "
   ]
  },
  {
   "cell_type": "code",
   "execution_count": null,
   "metadata": {},
   "outputs": [],
   "source": []
  },
  {
   "cell_type": "markdown",
   "metadata": {},
   "source": [
    "# 문제4-1 \n",
    "\n",
    "\n",
    "* 주어진 class Knn을 완성하여 정확도가 0.6 이상이 나오도록 코드를 완성하세요."
   ]
  },
  {
   "cell_type": "code",
   "execution_count": null,
   "metadata": {
    "ExecuteTime": {
     "end_time": "2020-09-15T10:59:25.287970Z",
     "start_time": "2020-09-15T10:59:25.254048Z"
    }
   },
   "outputs": [],
   "source": [
    "from sklearn.datasets import make_blobs\n",
    "# 임의의 랜덤한 데이터를 만드는 함수"
   ]
  },
  {
   "cell_type": "code",
   "execution_count": null,
   "metadata": {},
   "outputs": [],
   "source": [
    "import matplotlib.pyplot as plt\n",
    "# plt는 시각화에서 기본적으로 쓰이는 함수입니다. 꼭 숙지하세요 "
   ]
  },
  {
   "cell_type": "markdown",
   "metadata": {},
   "source": [
    "* 훈련 데이터 생성"
   ]
  },
  {
   "cell_type": "code",
   "execution_count": null,
   "metadata": {
    "ExecuteTime": {
     "end_time": "2020-09-15T11:18:00.105913Z",
     "start_time": "2020-09-15T11:18:00.013537Z"
    }
   },
   "outputs": [],
   "source": [
    "X, y = make_blobs(n_samples=300, n_features=2, centers=3, random_state=1, cluster_std = 1)\n",
    "\n",
    "plt.scatter(X[:, 0], X[:, 1], marker='o', s=100,\n",
    "            edgecolor=\"k\", linewidth=2, c=y)\n",
    "plt.show()"
   ]
  },
  {
   "cell_type": "markdown",
   "metadata": {},
   "source": [
    "* 테스트 데이터 생성"
   ]
  },
  {
   "cell_type": "code",
   "execution_count": null,
   "metadata": {
    "ExecuteTime": {
     "end_time": "2020-09-15T11:18:18.822109Z",
     "start_time": "2020-09-15T11:18:18.734564Z"
    }
   },
   "outputs": [],
   "source": [
    "test, test_y = make_blobs(n_samples=300, n_features=2, centers=3, random_state=1, cluster_std = 3)\n",
    "plt.scatter(test[:, 0], test[:, 1], marker='o', s=100,\n",
    "            edgecolor=\"k\", linewidth=2, c=test_y)\n",
    "plt.show()"
   ]
  },
  {
   "cell_type": "code",
   "execution_count": null,
   "metadata": {},
   "outputs": [],
   "source": [
    "class Knn():\n",
    "    \n",
    "    def __init__(self, n_neighbors): \n",
    "        \n",
    "        # 생성자로 최근접 이웃수(n_neighbors)를 입력받는다.\n",
    "        self.k = n_neighbors    \n",
    "    \n",
    "#     knn 은 lazy learning 인것을 생각해보세요 \n",
    "    def fit(self,X,y):\n",
    "        self.X = X\n",
    "        self.y = y \n",
    "        \n",
    "    def predict(self, test) : \n",
    "        y_pred = []\n",
    "        for i in range(test.shape[0]):\n",
    "            ################  문제 4-1  ####################\n",
    "            \n",
    "            \n",
    "            \n",
    "            \n",
    "            #####################################\n",
    "\n",
    "        return y_pred # 모든 비교가 끝나면 예측된 값이 저장된 y_pred를 반환한다.\n",
    "        \n",
    "#         거리를 계산하는 함수 \n",
    "    def dist(self, x, y) :\n",
    "        return np.linalg.norm(x - y, axis=1)"
   ]
  },
  {
   "cell_type": "code",
   "execution_count": null,
   "metadata": {
    "ExecuteTime": {
     "end_time": "2020-09-15T11:19:08.686749Z",
     "start_time": "2020-09-15T11:19:08.684177Z"
    }
   },
   "outputs": [],
   "source": [
    "classfier = Knn(3)\n",
    "classfier.fit(X, y)"
   ]
  },
  {
   "cell_type": "code",
   "execution_count": null,
   "metadata": {
    "ExecuteTime": {
     "end_time": "2020-09-15T11:19:08.879117Z",
     "start_time": "2020-09-15T11:19:08.863766Z"
    },
    "scrolled": true
   },
   "outputs": [],
   "source": [
    "result = classfier.predict(test)"
   ]
  },
  {
   "cell_type": "code",
   "execution_count": null,
   "metadata": {
    "ExecuteTime": {
     "end_time": "2020-09-15T11:19:09.046268Z",
     "start_time": "2020-09-15T11:19:09.044775Z"
    }
   },
   "outputs": [],
   "source": [
    "from sklearn.metrics import accuracy_score"
   ]
  },
  {
   "cell_type": "code",
   "execution_count": null,
   "metadata": {
    "ExecuteTime": {
     "end_time": "2020-09-15T11:19:09.229291Z",
     "start_time": "2020-09-15T11:19:09.224970Z"
    }
   },
   "outputs": [],
   "source": [
    "accuracy_score(test_y, result)"
   ]
  },
  {
   "cell_type": "code",
   "execution_count": null,
   "metadata": {},
   "outputs": [],
   "source": []
  }
 ],
 "metadata": {
  "hide_input": false,
  "kernelspec": {
   "display_name": "Python 3",
   "language": "python",
   "name": "python3"
  },
  "language_info": {
   "codemirror_mode": {
    "name": "ipython",
    "version": 3
   },
   "file_extension": ".py",
   "mimetype": "text/x-python",
   "name": "python",
   "nbconvert_exporter": "python",
   "pygments_lexer": "ipython3",
   "version": "3.6.10"
  },
  "toc": {
   "base_numbering": 1,
   "nav_menu": {},
   "number_sections": true,
   "sideBar": true,
   "skip_h1_title": false,
   "title_cell": "Table of Contents",
   "title_sidebar": "Contents",
   "toc_cell": false,
   "toc_position": {},
   "toc_section_display": true,
   "toc_window_display": false
  },
  "varInspector": {
   "cols": {
    "lenName": 16,
    "lenType": 16,
    "lenVar": 40
   },
   "kernels_config": {
    "python": {
     "delete_cmd_postfix": "",
     "delete_cmd_prefix": "del ",
     "library": "var_list.py",
     "varRefreshCmd": "print(var_dic_list())"
    },
    "r": {
     "delete_cmd_postfix": ") ",
     "delete_cmd_prefix": "rm(",
     "library": "var_list.r",
     "varRefreshCmd": "cat(var_dic_list()) "
    }
   },
   "types_to_exclude": [
    "module",
    "function",
    "builtin_function_or_method",
    "instance",
    "_Feature"
   ],
   "window_display": false
  }
 },
 "nbformat": 4,
 "nbformat_minor": 4
}